{
 "cells": [
  {
   "cell_type": "code",
   "execution_count": 2,
   "metadata": {},
   "outputs": [
    {
     "name": "stdout",
     "output_type": "stream",
     "text": [
      "4.1.2\n"
     ]
    }
   ],
   "source": [
    "import cv2\n",
    "import numpy as np\n",
    "import pandas as pd\n",
    "import seaborn as sns\n",
    "import matplotlib.pyplot as plt\n",
    "\n",
    "print(cv2.__version__)"
   ]
  },
  {
   "cell_type": "code",
   "execution_count": null,
   "metadata": {},
   "outputs": [],
   "source": []
  },
  {
   "cell_type": "code",
   "execution_count": 14,
   "metadata": {},
   "outputs": [
    {
     "name": "stdout",
     "output_type": "stream",
     "text": [
      "(512, 512, 3)\n",
      "(512, 512, 3)\n"
     ]
    }
   ],
   "source": [
    "apple = cv2.imread('apple.jpg')\n",
    "orange = cv2.imread('orange.jpg')\n",
    "\n",
    "print(apple.shape)\n",
    "print(orange.shape)\n",
    "apple_orgh = np.hstack((apple[:, :256], orange[:, 256:]))\n",
    "apple_orgv = np.vstack((apple[:256, :], orange[256:, :]))\n",
    "\n",
    "\n",
    "cv2.imshow('apple', apple)\n",
    "cv2.imshow('orange', orange)\n",
    "cv2.imshow('apple_orgh', apple_orgh)\n",
    "cv2.imshow('apple_orgv', apple_orgv)\n",
    "\n",
    "cv2.waitKey(10000)\n",
    "cv2.destroyAllWindows()"
   ]
  },
  {
   "cell_type": "code",
   "execution_count": null,
   "metadata": {},
   "outputs": [],
   "source": []
  },
  {
   "cell_type": "markdown",
   "metadata": {},
   "source": [
    "### Image Blending"
   ]
  },
  {
   "cell_type": "code",
   "execution_count": 21,
   "metadata": {},
   "outputs": [
    {
     "name": "stdout",
     "output_type": "stream",
     "text": [
      "(512, 512, 3)\n",
      "(512, 512, 3)\n"
     ]
    }
   ],
   "source": [
    "apple = cv2.imread('apple.jpg')\n",
    "orange = cv2.imread('orange.jpg')\n",
    "\n",
    "print(apple.shape)\n",
    "print(orange.shape)\n",
    "apple_orgh = np.hstack((apple[:, :256], orange[:, 256:]))\n",
    "apple_orgv = np.vstack((apple[:256, :], orange[256:, :]))\n",
    "\n",
    "\n",
    "cv2.imshow('apple', apple)\n",
    "cv2.imshow('orange', orange)\n",
    "cv2.imshow('apple_orgh', apple_orgh)\n",
    "cv2.imshow('apple_orgv', apple_orgv)\n",
    "\n",
    "cv2.waitKey(10000)\n",
    "cv2.destroyAllWindows()"
   ]
  },
  {
   "cell_type": "code",
   "execution_count": 28,
   "metadata": {},
   "outputs": [
    {
     "name": "stdout",
     "output_type": "stream",
     "text": [
      "(512, 512, 3)\n",
      "(512, 512, 3)\n"
     ]
    }
   ],
   "source": [
    "apple = cv2.imread('apple.jpg')\n",
    "orange = cv2.imread('orange.jpg')\n",
    "\n",
    "print(apple.shape)\n",
    "print(orange.shape)\n",
    "apple_orange = np.hstack((apple[:, :256], orange[:, 256:]))\n",
    "\n",
    "# generate gaussian pyramid for apple\n",
    "apple_copy = apple.copy()\n",
    "gp_apple = [apple_copy]\n",
    "\n",
    "for i in range(6):\n",
    "    apple_copy = cv2.pyrDown(apple_copy)\n",
    "    gp_apple.append(apple_copy)\n",
    "\n",
    "\n",
    "# generate gaussian pyramid for Orange\n",
    "orange_copy = orange.copy()\n",
    "gp_orange = [orange_copy]\n",
    "\n",
    "for i in range(6):\n",
    "    orange_copy = cv2.pyrDown(orange_copy)\n",
    "    gp_orange.append(orange_copy)\n",
    "    \n",
    "# generate laplacian pyramid for apple\n",
    "apple_copy = gp_apple[5]\n",
    "lp_apple = [apple_copy]\n",
    "\n",
    "for i in range(5,0,-1):\n",
    "    gaussian_expanded = cv2.pyrUp(gp_apple[i])\n",
    "    laplacian = cv2.subtract(gp_apple[i-1], gaussian_expanded)\n",
    "    lp_apple.append(laplacian)\n",
    "\n",
    "\n",
    "# generate laplacian pyramid for Orange\n",
    "orange_copy = gp_orange[5]\n",
    "lp_orange = [orange_copy]\n",
    "\n",
    "for i in range(5,0,-1):\n",
    "    gaussian_expanded = cv2.pyrUp(gp_orange[i])\n",
    "    laplacian = cv2.subtract(gp_orange[i-1], gaussian_expanded)\n",
    "    lp_orange.append(laplacian)\n",
    "    \n",
    "# left and right halves of image in each level\n",
    "apple_orange_pyramid =[]\n",
    "n= 0\n",
    "\n",
    "for apple_lap, orange_lap in zip(lp_apple,lp_orange):\n",
    "    n +=1\n",
    "    cols, rows, ch = apple_lap.shape\n",
    "    laplacian = np.hstack((apple_lap[:,  :int(cols/2)],orange_lap[:,  int(cols/2):] ))\n",
    "    apple_orange_pyramid.append(laplacian)\n",
    "\n",
    "# reconstruct\n",
    "apple_orange_reconstruct = apple_orange_pyramid[0]\n",
    "\n",
    "for i in range(1, 6):\n",
    "    apple_orange_reconstruct = cv2.pyrUp(apple_orange_reconstruct)\n",
    "    apple_orange_reconstruct = cv2.add(apple_orange_pyramid[i], apple_orange_reconstruct)\n",
    "\n",
    "\n",
    "cv2.imshow('apple', apple)\n",
    "cv2.imshow('orange', orange)\n",
    "cv2.imshow('apple_orange', apple_orange)\n",
    "cv2.imshow('apple_orange_reconstruct', apple_orange_reconstruct)\n",
    "\n",
    "cv2.waitKey(10000)\n",
    "cv2.destroyAllWindows()"
   ]
  },
  {
   "cell_type": "code",
   "execution_count": null,
   "metadata": {},
   "outputs": [],
   "source": []
  },
  {
   "cell_type": "code",
   "execution_count": null,
   "metadata": {},
   "outputs": [],
   "source": []
  },
  {
   "cell_type": "markdown",
   "metadata": {},
   "source": [
    "## Basic Motion Detection"
   ]
  },
  {
   "cell_type": "code",
   "execution_count": 1,
   "metadata": {},
   "outputs": [
    {
     "data": {
      "text/plain": [
       "<function destroyAllWindows>"
      ]
     },
     "execution_count": 1,
     "metadata": {},
     "output_type": "execute_result"
    }
   ],
   "source": [
    "import cv2\n",
    "import numpy as np\n",
    "\n",
    "\n",
    "cap = cv2.VideoCapture(0)#'C:/Users/Windows 10/Desktop/DL/CV/opencv-master/samples/data/vtest.avi')\n",
    "ret, frame1 =cap.read()\n",
    "ret, frame2 =cap.read()\n",
    "\n",
    "\n",
    "while cap.isOpened():\n",
    "    diff =cv2.absdiff(frame1, frame2)\n",
    "    gray =cv2.cvtColor(diff, cv2.COLOR_BGR2GRAY)\n",
    "    blur =cv2.GaussianBlur(gray, (5,5), 0)\n",
    "    _, thresh =cv2.threshold(blur, 20, 255, cv2.THRESH_BINARY)\n",
    "    dilated =cv2.dilate(thresh, None, iterations=3)\n",
    "    contours, hierarchy = cv2.findContours(thresh, cv2.RETR_TREE, cv2.CHAIN_APPROX_NONE)\n",
    "    \n",
    "    cv2.drawContours(frame1, contours, -1, (0, 255, 0), 2)\n",
    "    \n",
    "    cv2.imshow(\"inter\", frame1)\n",
    "    frame1= frame2\n",
    "    ret, frame2 =cap.read()\n",
    "    \n",
    "    \n",
    "    if cv2.waitKey(1) & 0xFF == ord('q'):\n",
    "        break\n",
    "\n",
    "cap.release()\n",
    "cv2.destroyAllWindows"
   ]
  },
  {
   "cell_type": "code",
   "execution_count": 1,
   "metadata": {},
   "outputs": [
    {
     "data": {
      "text/plain": [
       "<function destroyAllWindows>"
      ]
     },
     "execution_count": 1,
     "metadata": {},
     "output_type": "execute_result"
    }
   ],
   "source": [
    "import cv2\n",
    "import numpy as np\n",
    "\n",
    "\n",
    "cap = cv2.VideoCapture(0) #'C:/Users/Windows 10/Desktop/DL/CV/opencv-master/samples/data/vtest.avi')\n",
    "ret, frame1 =cap.read()\n",
    "ret, frame2 =cap.read()\n",
    "\n",
    "\n",
    "while cap.isOpened():\n",
    "    diff =cv2.absdiff(frame1, frame2)\n",
    "    gray =cv2.cvtColor(diff, cv2.COLOR_BGR2GRAY)\n",
    "    blur =cv2.GaussianBlur(gray, (5,5), 0)\n",
    "    _, thresh =cv2.threshold(blur, 20, 255, cv2.THRESH_BINARY)\n",
    "    dilated =cv2.dilate(thresh, None, iterations=3)\n",
    "    contours, hierarchy = cv2.findContours(thresh, cv2.RETR_TREE, cv2.CHAIN_APPROX_NONE)\n",
    "    \n",
    "    \n",
    "    for contour in contours:\n",
    "        (x, y, w, h) =cv2.boundingRect(contour)\n",
    "        \n",
    "        if cv2.contourArea(contour) < 700:\n",
    "            continue \n",
    "        cv2.rectangle(frame1, (x,y), (x+w, y+w), (0,255,0) , 2)\n",
    "        cv2.putText(frame1, \"Status: {}\".format('Movement') ,(10, 20),  cv2.FONT_HERSHEY_SIMPLEX, 1 , (0,0,255) , 3)\n",
    "    \n",
    "    \n",
    "    \n",
    "    cv2.imshow(\"inter\", frame1)\n",
    "    frame1= frame2\n",
    "    ret, frame2 =cap.read()\n",
    "    \n",
    "    \n",
    "    if cv2.waitKey(1) & 0xFF == ord('q'):\n",
    "        break\n",
    "\n",
    "cap.release()\n",
    "cv2.destroyAllWindows"
   ]
  },
  {
   "cell_type": "code",
   "execution_count": null,
   "metadata": {},
   "outputs": [],
   "source": []
  },
  {
   "cell_type": "markdown",
   "metadata": {},
   "source": [
    "### Shape detection"
   ]
  },
  {
   "cell_type": "code",
   "execution_count": 7,
   "metadata": {},
   "outputs": [],
   "source": [
    "img = cv2.imread('pic3.png')\n",
    "imgGray =cv2.cvtColor(img, cv2.COLOR_BGR2GRAY)\n",
    "\n",
    "cv2.imshow('shapes', img)\n",
    "cv2.waitKey(10000)\n",
    "cv2.destroyAllWindows()"
   ]
  },
  {
   "cell_type": "code",
   "execution_count": 15,
   "metadata": {},
   "outputs": [],
   "source": [
    "# Load the image\n",
    "img = cv2.imread(\"cont_new.png\")\n",
    "\n",
    "        \n",
    "cv2.imshow(\"Image\", img)       \n",
    "\n",
    "# Convert to greyscale\n",
    "img_gray = cv2.cvtColor(img, cv2.COLOR_BGR2GRAY)\n",
    "# Convert to binary image by thresholding\n",
    "_, threshold = cv2.threshold(img_gray, 245, 255, cv2.THRESH_BINARY)\n",
    "# Find the contours\n",
    "contours, _ = cv2.findContours(threshold, cv2.RETR_TREE, cv2.CHAIN_APPROX_SIMPLE)\n",
    "# For each contour approximate the curve and\n",
    "# detect the shapes.\n",
    "for cnt in contours:\n",
    "    epsilon = 0.01*cv2.arcLength(cnt, True)\n",
    "    approx = cv2.approxPolyDP(cnt, epsilon, True)\n",
    "    cv2.drawContours(img, [approx], 0, (0), 2)\n",
    "    # Position for writing text\n",
    "    x = approx.ravel()[0]\n",
    "    y = approx.ravel()[1]\n",
    " \n",
    "    if len(approx) == 3:\n",
    "        cv2.putText(img, \"Triangle\", (x, y), cv2.FONT_HERSHEY_COMPLEX, 1, 0,2)\n",
    "    elif len(approx) == 4:\n",
    "        cv2.putText(img, \"Rectangle\", (x, y), cv2.FONT_HERSHEY_COMPLEX, 1, 0,2)\n",
    "    elif len(approx) == 5:\n",
    "        cv2.putText(img, \"Pentagon\", (x, y), cv2.FONT_HERSHEY_COMPLEX, 1, 0,2)\n",
    "    elif 6 < len(approx) < 15:\n",
    "        cv2.putText(img, \"Ellipse\", (x, y), cv2.FONT_HERSHEY_COMPLEX, 1, 0,2)\n",
    "    else:\n",
    "        cv2.putText(img, \"Circle\", (x, y), cv2.FONT_HERSHEY_COMPLEX, 1, 0,2)\n",
    "cv2.imshow(\"Final\", img)\n",
    "cv2.waitKey(10000)\n",
    "cv2.destroyAllWindows()"
   ]
  },
  {
   "cell_type": "code",
   "execution_count": null,
   "metadata": {},
   "outputs": [],
   "source": []
  },
  {
   "cell_type": "markdown",
   "metadata": {},
   "source": [
    "### Circle Detection"
   ]
  },
  {
   "cell_type": "code",
   "execution_count": null,
   "metadata": {},
   "outputs": [],
   "source": [
    "img = cv2.imread('smarties.png')\n",
    "output=img.copy()\n",
    "\n",
    "\n",
    "gray = cv2.cvtColor(img, cv2.COLOR_BGR2GRAY)\n",
    "gray = cv2.medianBlur(gray, 5)\n",
    "\n",
    "circles = cv2.HoughCircles(gray, cv2.HOUGH_GRADIENT, 1, 20,\n",
    "                               param1=100, param2=30,\n",
    "                               minRadius=1, maxRadius=30)\n",
    "\n",
    "detected_circles = np.uint16(np.around(circles))\n",
    "\n",
    "for (x, y, r) in detected_circles[0, :]:\n",
    "    cv2.circle(output, (x,y) , r, (0,255,0), 3)\n",
    "    cv2.circle(output, (x,y) , 2, (0,255,255), 3)\n",
    "\n",
    "\n",
    "\n",
    "cv2.imshow('output', output)\n",
    "cv2.waitKey(10000)\n",
    "cv2.destroyAllWindows()"
   ]
  },
  {
   "cell_type": "code",
   "execution_count": null,
   "metadata": {},
   "outputs": [],
   "source": []
  },
  {
   "cell_type": "code",
   "execution_count": null,
   "metadata": {},
   "outputs": [],
   "source": []
  },
  {
   "cell_type": "code",
   "execution_count": null,
   "metadata": {},
   "outputs": [],
   "source": []
  }
 ],
 "metadata": {
  "kernelspec": {
   "display_name": "Python 3",
   "language": "python",
   "name": "python3"
  },
  "language_info": {
   "codemirror_mode": {
    "name": "ipython",
    "version": 3
   },
   "file_extension": ".py",
   "mimetype": "text/x-python",
   "name": "python",
   "nbconvert_exporter": "python",
   "pygments_lexer": "ipython3",
   "version": "3.7.3"
  }
 },
 "nbformat": 4,
 "nbformat_minor": 2
}
